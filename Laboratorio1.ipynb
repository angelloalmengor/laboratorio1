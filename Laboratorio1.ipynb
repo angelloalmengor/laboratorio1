{
 "cells": [
  {
   "cell_type": "markdown",
   "id": "bc0110f8-56d0-4492-8944-ec4c145f388f",
   "metadata": {},
   "source": [
    "### Angello Almengor"
   ]
  },
  {
   "cell_type": "markdown",
   "id": "e7c853e1-a687-43aa-b631-b4bbb0eaf082",
   "metadata": {},
   "source": [
    "### _Carne: 22003729_"
   ]
  },
  {
   "cell_type": "markdown",
   "id": "2a82ca10-a611-4d53-934a-fa0956e72c9d",
   "metadata": {},
   "source": [
    "# Laboratorio 1"
   ]
  },
  {
   "cell_type": "markdown",
   "id": "b00e880d-3acf-47fa-be1a-246e4117db10",
   "metadata": {},
   "source": [
    "## ¿Qué es git?"
   ]
  },
  {
   "cell_type": "markdown",
   "id": "c85c10c9-e71e-4990-97cc-8b8200fca07f",
   "metadata": {},
   "source": [
    "Git es un sistema de control de versiones distribuido, diseñado para gestionar proyectos de software de manera eficiente y colaborativa. Fue creado por Linus Torvalds en 2005 y se ha convertido en una herramienta fundamental para el desarrollo de software."
   ]
  },
  {
   "cell_type": "code",
   "execution_count": null,
   "id": "19f383f3-1a93-46f5-a16f-0148cd1a2d1d",
   "metadata": {},
   "outputs": [],
   "source": [
    "Con Git, los desarrolladores pueden realizar un seguimiento de los cambios en el código fuente, colaborar con otros miembros del equipo, mantener diferentes versiones del proyecto y revertir a versiones anteriores si es necesario. Git permite trabajar de forma descentralizada, lo que significa que cada usuario tiene una copia completa del repositorio en su propio equipo, lo que facilita el trabajo offline y la colaboración entre equipos distribuidos geográficamente."
   ]
  },
  {
   "cell_type": "markdown",
   "id": "a4c27f90-0655-4b37-ab2b-8e9fb97e72fe",
   "metadata": {},
   "source": [
    "## ¿Qué es github?"
   ]
  },
  {
   "cell_type": "code",
   "execution_count": null,
   "id": "b4f5a7c8-8cf9-43df-9efe-02fa2d71f9d0",
   "metadata": {},
   "outputs": [],
   "source": [
    "GitHub es una plataforma de desarrollo colaborativo de software basada en Git. Permite a los desarrolladores alojar y revisar código, gestionar proyectos, seguir problemas (issues) y realizar colaboraciones en equipos de manera eficiente."
   ]
  },
  {
   "cell_type": "code",
   "execution_count": null,
   "id": "45e61c8a-1499-44d1-ba9a-b527d13c974c",
   "metadata": {},
   "outputs": [],
   "source": [
    "En GitHub, los desarrolladores pueden cargar sus repositorios Git y compartirlos públicamente para que otros puedan colaborar en ellos o mantenerlos privados para uso interno. Además, proporciona herramientas para la gestión del flujo de trabajo, como solicitudes de extracción (pull requests), que permiten a los colaboradores proponer cambios en el código y solicitar que sean revisados e integrados por los mantenedores del proyecto."
   ]
  },
  {
   "cell_type": "code",
   "execution_count": null,
   "id": "c01e353c-2a5c-434d-8bd6-d79f5f6d696c",
   "metadata": {},
   "outputs": [],
   "source": []
  }
 ],
 "metadata": {
  "kernelspec": {
   "display_name": "Python 3 (ipykernel)",
   "language": "python",
   "name": "python3"
  },
  "language_info": {
   "codemirror_mode": {
    "name": "ipython",
    "version": 3
   },
   "file_extension": ".py",
   "mimetype": "text/x-python",
   "name": "python",
   "nbconvert_exporter": "python",
   "pygments_lexer": "ipython3",
   "version": "3.11.5"
  }
 },
 "nbformat": 4,
 "nbformat_minor": 5
}
